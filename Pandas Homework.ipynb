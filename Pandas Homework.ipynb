{
 "cells": [
  {
   "cell_type": "markdown",
   "metadata": {},
   "source": [
    "## Heroes of Pymoli Data Analysis"
   ]
  },
  {
   "cell_type": "markdown",
   "metadata": {},
   "source": [
    "1) Within the analysis below, it is worth noting that your cliente is mainly comprised of men. There are other takeaways to be gained from this data, but keep in mind that an overwhelming 81 percent of your playerbase are male.\n",
    "\n",
    "2) On top of your playerbase being overwhelmingly male, they also comprise most of your purchases (633 out of 780 total purchases). \n",
    "\n",
    "3) This could go along with having the highest number of total purchases, but they also have the highest average transaction price per transaction. Higher average transacion numbers will yield higher profit if total number of transactions stays the same. Increase the female playerbase and raise the total playerbase and average transaction price won't be as big of a factor in total profit."
   ]
  },
  {
   "cell_type": "code",
   "execution_count": 1,
   "metadata": {
    "collapsed": true
   },
   "outputs": [],
   "source": [
    "import pandas as pd\n",
    "import numpy as py"
   ]
  },
  {
   "cell_type": "code",
   "execution_count": 2,
   "metadata": {
    "scrolled": true
   },
   "outputs": [
    {
     "data": {
      "text/html": [
       "<div>\n",
       "<style>\n",
       "    .dataframe thead tr:only-child th {\n",
       "        text-align: right;\n",
       "    }\n",
       "\n",
       "    .dataframe thead th {\n",
       "        text-align: left;\n",
       "    }\n",
       "\n",
       "    .dataframe tbody tr th {\n",
       "        vertical-align: top;\n",
       "    }\n",
       "</style>\n",
       "<table border=\"1\" class=\"dataframe\">\n",
       "  <thead>\n",
       "    <tr style=\"text-align: right;\">\n",
       "      <th></th>\n",
       "      <th>Age</th>\n",
       "      <th>Gender</th>\n",
       "      <th>Item ID</th>\n",
       "      <th>Item Name</th>\n",
       "      <th>Price</th>\n",
       "      <th>SN</th>\n",
       "    </tr>\n",
       "  </thead>\n",
       "  <tbody>\n",
       "    <tr>\n",
       "      <th>0</th>\n",
       "      <td>38</td>\n",
       "      <td>Male</td>\n",
       "      <td>165</td>\n",
       "      <td>Bone Crushing Silver Skewer</td>\n",
       "      <td>3.37</td>\n",
       "      <td>Aelalis34</td>\n",
       "    </tr>\n",
       "    <tr>\n",
       "      <th>1</th>\n",
       "      <td>21</td>\n",
       "      <td>Male</td>\n",
       "      <td>119</td>\n",
       "      <td>Stormbringer, Dark Blade of Ending Misery</td>\n",
       "      <td>2.32</td>\n",
       "      <td>Eolo46</td>\n",
       "    </tr>\n",
       "    <tr>\n",
       "      <th>2</th>\n",
       "      <td>34</td>\n",
       "      <td>Male</td>\n",
       "      <td>174</td>\n",
       "      <td>Primitive Blade</td>\n",
       "      <td>2.46</td>\n",
       "      <td>Assastnya25</td>\n",
       "    </tr>\n",
       "    <tr>\n",
       "      <th>3</th>\n",
       "      <td>21</td>\n",
       "      <td>Male</td>\n",
       "      <td>92</td>\n",
       "      <td>Final Critic</td>\n",
       "      <td>1.36</td>\n",
       "      <td>Pheusrical25</td>\n",
       "    </tr>\n",
       "    <tr>\n",
       "      <th>4</th>\n",
       "      <td>23</td>\n",
       "      <td>Male</td>\n",
       "      <td>63</td>\n",
       "      <td>Stormfury Mace</td>\n",
       "      <td>1.27</td>\n",
       "      <td>Aela59</td>\n",
       "    </tr>\n",
       "  </tbody>\n",
       "</table>\n",
       "</div>"
      ],
      "text/plain": [
       "   Age Gender  Item ID                                  Item Name  Price  \\\n",
       "0   38   Male      165                Bone Crushing Silver Skewer   3.37   \n",
       "1   21   Male      119  Stormbringer, Dark Blade of Ending Misery   2.32   \n",
       "2   34   Male      174                            Primitive Blade   2.46   \n",
       "3   21   Male       92                               Final Critic   1.36   \n",
       "4   23   Male       63                             Stormfury Mace   1.27   \n",
       "\n",
       "             SN  \n",
       "0     Aelalis34  \n",
       "1        Eolo46  \n",
       "2   Assastnya25  \n",
       "3  Pheusrical25  \n",
       "4        Aela59  "
      ]
     },
     "execution_count": 2,
     "metadata": {},
     "output_type": "execute_result"
    }
   ],
   "source": [
    "purchase_data_df = pd.read_json('purchase_data.json', typ='frame', orient='columns')\n",
    "purchase_data_df.head()"
   ]
  },
  {
   "cell_type": "markdown",
   "metadata": {},
   "source": [
    "## Player Total"
   ]
  },
  {
   "cell_type": "code",
   "execution_count": 3,
   "metadata": {},
   "outputs": [
    {
     "data": {
      "text/html": [
       "<div>\n",
       "<style>\n",
       "    .dataframe thead tr:only-child th {\n",
       "        text-align: right;\n",
       "    }\n",
       "\n",
       "    .dataframe thead th {\n",
       "        text-align: left;\n",
       "    }\n",
       "\n",
       "    .dataframe tbody tr th {\n",
       "        vertical-align: top;\n",
       "    }\n",
       "</style>\n",
       "<table border=\"1\" class=\"dataframe\">\n",
       "  <thead>\n",
       "    <tr style=\"text-align: right;\">\n",
       "      <th></th>\n",
       "      <th>Total Players</th>\n",
       "    </tr>\n",
       "  </thead>\n",
       "  <tbody>\n",
       "    <tr>\n",
       "      <th>0</th>\n",
       "      <td>573</td>\n",
       "    </tr>\n",
       "  </tbody>\n",
       "</table>\n",
       "</div>"
      ],
      "text/plain": [
       "   Total Players\n",
       "0            573"
      ]
     },
     "execution_count": 3,
     "metadata": {},
     "output_type": "execute_result"
    }
   ],
   "source": [
    "player_count = purchase_data_df['SN'].value_counts()\n",
    "player_count_unique = len((player_count))\n",
    "player_count_table = pd.DataFrame({'Total Players':[player_count_unique]})\n",
    "player_count_table"
   ]
  },
  {
   "cell_type": "markdown",
   "metadata": {},
   "source": [
    "## Purchasing Analysis (Total)"
   ]
  },
  {
   "cell_type": "markdown",
   "metadata": {},
   "source": [
    "Number of Unique Items"
   ]
  },
  {
   "cell_type": "code",
   "execution_count": 4,
   "metadata": {
    "collapsed": true
   },
   "outputs": [],
   "source": [
    "items_unique = len(purchase_data_df[\"Item ID\"].unique())"
   ]
  },
  {
   "cell_type": "markdown",
   "metadata": {},
   "source": [
    "Average Purchase Price"
   ]
  },
  {
   "cell_type": "code",
   "execution_count": 5,
   "metadata": {
    "collapsed": true
   },
   "outputs": [],
   "source": [
    "avg_purchase_price = purchase_data_df[\"Price\"].mean()"
   ]
  },
  {
   "cell_type": "markdown",
   "metadata": {},
   "source": [
    "Total Number of Purchases"
   ]
  },
  {
   "cell_type": "code",
   "execution_count": 6,
   "metadata": {
    "collapsed": true
   },
   "outputs": [],
   "source": [
    "total_number_of_purchases = purchase_data_df[\"Price\"].count()"
   ]
  },
  {
   "cell_type": "markdown",
   "metadata": {},
   "source": [
    "Total Revenue"
   ]
  },
  {
   "cell_type": "code",
   "execution_count": 7,
   "metadata": {
    "collapsed": true
   },
   "outputs": [],
   "source": [
    "total_revenue = purchase_data_df[\"Price\"].sum()"
   ]
  },
  {
   "cell_type": "code",
   "execution_count": 8,
   "metadata": {},
   "outputs": [],
   "source": [
    "purchasing_analysis = pd.DataFrame({\"Number of Unique Items\":[items_unique], \n",
    "                                    \"Average Price\":[avg_purchase_price],\n",
    "                                    \"Number of Purchases\":[total_number_of_purchases],\n",
    "                                    \"Total Revenue\":[total_revenue]\n",
    "})"
   ]
  },
  {
   "cell_type": "code",
   "execution_count": 9,
   "metadata": {},
   "outputs": [
    {
     "data": {
      "text/html": [
       "<div>\n",
       "<style>\n",
       "    .dataframe thead tr:only-child th {\n",
       "        text-align: right;\n",
       "    }\n",
       "\n",
       "    .dataframe thead th {\n",
       "        text-align: left;\n",
       "    }\n",
       "\n",
       "    .dataframe tbody tr th {\n",
       "        vertical-align: top;\n",
       "    }\n",
       "</style>\n",
       "<table border=\"1\" class=\"dataframe\">\n",
       "  <thead>\n",
       "    <tr style=\"text-align: right;\">\n",
       "      <th></th>\n",
       "      <th>Number of Unique Items</th>\n",
       "      <th>Average Price</th>\n",
       "      <th>Number of Purchases</th>\n",
       "      <th>Total Revenue</th>\n",
       "    </tr>\n",
       "  </thead>\n",
       "  <tbody>\n",
       "    <tr>\n",
       "      <th>0</th>\n",
       "      <td>183</td>\n",
       "      <td>$2.93</td>\n",
       "      <td>780</td>\n",
       "      <td>$2,286.33</td>\n",
       "    </tr>\n",
       "  </tbody>\n",
       "</table>\n",
       "</div>"
      ],
      "text/plain": [
       "   Number of Unique Items Average Price Number of Purchases Total Revenue\n",
       "0                     183         $2.93                 780     $2,286.33"
      ]
     },
     "execution_count": 9,
     "metadata": {},
     "output_type": "execute_result"
    }
   ],
   "source": [
    "purchasing_analysis = purchasing_analysis.round(2)\n",
    "purchasing_analysis[\"Average Price\"] = purchasing_analysis[\"Average Price\"].map(\"${:,.2f}\".format)\n",
    "purchasing_analysis[\"Number of Purchases\"] = purchasing_analysis[\"Number of Purchases\"].map(\"{:,}\".format)\n",
    "purchasing_analysis[\"Total Revenue\"] = purchasing_analysis[\"Total Revenue\"].map(\"${:,.2f}\".format)\n",
    "purchasing_analysis = purchasing_analysis.loc[:,[\"Number of Unique Items\", \"Average Price\", \"Number of Purchases\", \"Total Revenue\"]]\n",
    "purchasing_analysis"
   ]
  },
  {
   "cell_type": "markdown",
   "metadata": {},
   "source": [
    "## Gender Demographics"
   ]
  },
  {
   "cell_type": "markdown",
   "metadata": {},
   "source": [
    "Percentage and Count of Male Players"
   ]
  },
  {
   "cell_type": "code",
   "execution_count": 10,
   "metadata": {
    "collapsed": true
   },
   "outputs": [],
   "source": [
    "grouped_gender_df = purchase_data_df.groupby(['Gender'])\n",
    "total_player_count_df = grouped_gender_df[\"Gender\"].count()"
   ]
  },
  {
   "cell_type": "code",
   "execution_count": 11,
   "metadata": {
    "collapsed": true
   },
   "outputs": [],
   "source": [
    "total_player_count = total_player_count_df.sum()\n",
    "male_player_count = total_player_count_df['Gender':'Male'].sum()\n",
    "female_player_count = (purchase_data_df.Gender == 'Female').sum()\n",
    "other_player_count = (purchase_data_df.Gender == 'Other / Non-Disclosed').sum()"
   ]
  },
  {
   "cell_type": "code",
   "execution_count": 12,
   "metadata": {
    "collapsed": true
   },
   "outputs": [],
   "source": [
    "male_player_percentage = male_player_count/total_player_count * 100\n",
    "female_player_percentage = female_player_count/total_player_count * 100\n",
    "other_player_percentage = other_player_count/total_player_count * 100"
   ]
  },
  {
   "cell_type": "code",
   "execution_count": 13,
   "metadata": {},
   "outputs": [
    {
     "data": {
      "text/html": [
       "<div>\n",
       "<style>\n",
       "    .dataframe thead tr:only-child th {\n",
       "        text-align: right;\n",
       "    }\n",
       "\n",
       "    .dataframe thead th {\n",
       "        text-align: left;\n",
       "    }\n",
       "\n",
       "    .dataframe tbody tr th {\n",
       "        vertical-align: top;\n",
       "    }\n",
       "</style>\n",
       "<table border=\"1\" class=\"dataframe\">\n",
       "  <thead>\n",
       "    <tr style=\"text-align: right;\">\n",
       "      <th></th>\n",
       "      <th>Percentage of Players</th>\n",
       "      <th>Total Count</th>\n",
       "    </tr>\n",
       "    <tr>\n",
       "      <th>Gender</th>\n",
       "      <th></th>\n",
       "      <th></th>\n",
       "    </tr>\n",
       "  </thead>\n",
       "  <tbody>\n",
       "    <tr>\n",
       "      <th>Female</th>\n",
       "      <td>17.44%</td>\n",
       "      <td>136</td>\n",
       "    </tr>\n",
       "    <tr>\n",
       "      <th>Male</th>\n",
       "      <td>81.15%</td>\n",
       "      <td>633</td>\n",
       "    </tr>\n",
       "    <tr>\n",
       "      <th>Other / Non-Disclosed</th>\n",
       "      <td>1.41%</td>\n",
       "      <td>11</td>\n",
       "    </tr>\n",
       "  </tbody>\n",
       "</table>\n",
       "</div>"
      ],
      "text/plain": [
       "                      Percentage of Players  Total Count\n",
       "Gender                                                  \n",
       "Female                               17.44%          136\n",
       "Male                                 81.15%          633\n",
       "Other / Non-Disclosed                 1.41%           11"
      ]
     },
     "execution_count": 13,
     "metadata": {},
     "output_type": "execute_result"
    }
   ],
   "source": [
    "gender_demo = pd.DataFrame({\"Percentage of Players\":[female_player_percentage, male_player_percentage, other_player_percentage],\n",
    "                            \"Total Count\":total_player_count_df\n",
    "})\n",
    "gender_demo = gender_demo.round(2)\n",
    "gender_demo[\"Percentage of Players\"] = gender_demo[\"Percentage of Players\"].map(\"{:,.2f}%\".format)\n",
    "gender_demo"
   ]
  },
  {
   "cell_type": "markdown",
   "metadata": {},
   "source": [
    "## Purchasing Analysis (Gender)"
   ]
  },
  {
   "cell_type": "code",
   "execution_count": 14,
   "metadata": {
    "collapsed": true
   },
   "outputs": [],
   "source": [
    "purchase_count_gender_grouped_df = purchase_data_df.groupby(['Gender'])\n",
    "purchase_count_gender = purchase_count_gender_grouped_df[\"Gender\"].count()"
   ]
  },
  {
   "cell_type": "code",
   "execution_count": 15,
   "metadata": {
    "collapsed": true
   },
   "outputs": [],
   "source": [
    "average_purchase_price_gender = purchase_data_df.groupby('Gender').Price.mean()"
   ]
  },
  {
   "cell_type": "code",
   "execution_count": 16,
   "metadata": {
    "collapsed": true
   },
   "outputs": [],
   "source": [
    "total_purchase_value_gender = purchase_data_df.groupby('Gender').Price.sum()\n",
    "total_purchase_value_male = total_purchase_value_gender['Male'].sum()\n",
    "total_purchase_value_female = total_purchase_value_gender['Female'].sum()\n",
    "total_purchase_value_other = total_purchase_value_gender['Other / Non-Disclosed'].sum()"
   ]
  },
  {
   "cell_type": "code",
   "execution_count": 17,
   "metadata": {
    "collapsed": true
   },
   "outputs": [],
   "source": [
    "normalized_values_male = total_purchase_value_male/(purchase_count_gender['Male'].sum())\n",
    "normalized_values_female = total_purchase_value_female/(purchase_count_gender['Female'].sum())\n",
    "normalized_values_other = total_purchase_value_other/(purchase_count_gender['Other / Non-Disclosed'].sum())"
   ]
  },
  {
   "cell_type": "code",
   "execution_count": 18,
   "metadata": {},
   "outputs": [
    {
     "data": {
      "text/html": [
       "<div>\n",
       "<style>\n",
       "    .dataframe thead tr:only-child th {\n",
       "        text-align: right;\n",
       "    }\n",
       "\n",
       "    .dataframe thead th {\n",
       "        text-align: left;\n",
       "    }\n",
       "\n",
       "    .dataframe tbody tr th {\n",
       "        vertical-align: top;\n",
       "    }\n",
       "</style>\n",
       "<table border=\"1\" class=\"dataframe\">\n",
       "  <thead>\n",
       "    <tr style=\"text-align: right;\">\n",
       "      <th></th>\n",
       "      <th>Average Purchase Price</th>\n",
       "      <th>Normalized Totals</th>\n",
       "      <th>Purchase Count</th>\n",
       "      <th>Total Purchase Value</th>\n",
       "    </tr>\n",
       "    <tr>\n",
       "      <th>Gender</th>\n",
       "      <th></th>\n",
       "      <th></th>\n",
       "      <th></th>\n",
       "      <th></th>\n",
       "    </tr>\n",
       "  </thead>\n",
       "  <tbody>\n",
       "    <tr>\n",
       "      <th>Female</th>\n",
       "      <td>$2.82</td>\n",
       "      <td>$2.82</td>\n",
       "      <td>136</td>\n",
       "      <td>$382.91</td>\n",
       "    </tr>\n",
       "    <tr>\n",
       "      <th>Male</th>\n",
       "      <td>$2.95</td>\n",
       "      <td>$2.95</td>\n",
       "      <td>633</td>\n",
       "      <td>$1,867.68</td>\n",
       "    </tr>\n",
       "    <tr>\n",
       "      <th>Other / Non-Disclosed</th>\n",
       "      <td>$3.25</td>\n",
       "      <td>$3.25</td>\n",
       "      <td>11</td>\n",
       "      <td>$35.74</td>\n",
       "    </tr>\n",
       "  </tbody>\n",
       "</table>\n",
       "</div>"
      ],
      "text/plain": [
       "                      Average Purchase Price Normalized Totals Purchase Count  \\\n",
       "Gender                                                                          \n",
       "Female                                 $2.82             $2.82            136   \n",
       "Male                                   $2.95             $2.95            633   \n",
       "Other / Non-Disclosed                  $3.25             $3.25             11   \n",
       "\n",
       "                      Total Purchase Value  \n",
       "Gender                                      \n",
       "Female                             $382.91  \n",
       "Male                             $1,867.68  \n",
       "Other / Non-Disclosed               $35.74  "
      ]
     },
     "execution_count": 18,
     "metadata": {},
     "output_type": "execute_result"
    }
   ],
   "source": [
    "purchasing_analysis_summary = pd.DataFrame({\"Purchase Count\":purchase_count_gender,\n",
    "                                            \"Average Purchase Price\":average_purchase_price_gender,\n",
    "                                            \"Total Purchase Value\":total_purchase_value_gender,\n",
    "                                            \"Normalized Totals\":[normalized_values_female, normalized_values_male, normalized_values_other]\n",
    "                                           })\n",
    "\n",
    "purchasing_analysis_summary[\"Average Purchase Price\"] = purchasing_analysis_summary[\"Average Purchase Price\"].map(\"${:,.2f}\".format)\n",
    "purchasing_analysis_summary[\"Total Purchase Value\"] = purchasing_analysis_summary[\"Total Purchase Value\"].map(\"${:,.2f}\".format)\n",
    "purchasing_analysis_summary[\"Purchase Count\"] = purchasing_analysis_summary[\"Purchase Count\"].map(\"{:,}\".format)\n",
    "purchasing_analysis_summary[\"Normalized Totals\"] = purchasing_analysis_summary[\"Normalized Totals\"].map(\"${:,.2f}\".format)\n",
    "purchasing_analysis_summary"
   ]
  },
  {
   "cell_type": "markdown",
   "metadata": {},
   "source": [
    "## Age Demographics"
   ]
  },
  {
   "cell_type": "code",
   "execution_count": 19,
   "metadata": {
    "collapsed": true
   },
   "outputs": [],
   "source": [
    "bins = [0, 10, 15, 20, 25, 30, 35, 40, 100]\n",
    "group_names = [\"<10\", \"10-14\", \"15-19\", \"20-24\", \"25-29\", \"30-34\", \"35-39\", \"40+\"]"
   ]
  },
  {
   "cell_type": "code",
   "execution_count": 20,
   "metadata": {},
   "outputs": [
    {
     "data": {
      "text/html": [
       "<div>\n",
       "<style>\n",
       "    .dataframe thead tr:only-child th {\n",
       "        text-align: right;\n",
       "    }\n",
       "\n",
       "    .dataframe thead th {\n",
       "        text-align: left;\n",
       "    }\n",
       "\n",
       "    .dataframe tbody tr th {\n",
       "        vertical-align: top;\n",
       "    }\n",
       "</style>\n",
       "<table border=\"1\" class=\"dataframe\">\n",
       "  <thead>\n",
       "    <tr style=\"text-align: right;\">\n",
       "      <th></th>\n",
       "      <th>Percentage of Players</th>\n",
       "      <th>Total Count</th>\n",
       "    </tr>\n",
       "  </thead>\n",
       "  <tbody>\n",
       "    <tr>\n",
       "      <th>&lt;10</th>\n",
       "      <td>4.10%</td>\n",
       "      <td>32</td>\n",
       "    </tr>\n",
       "    <tr>\n",
       "      <th>10-14</th>\n",
       "      <td>10.00%</td>\n",
       "      <td>78</td>\n",
       "    </tr>\n",
       "    <tr>\n",
       "      <th>15-19</th>\n",
       "      <td>23.59%</td>\n",
       "      <td>184</td>\n",
       "    </tr>\n",
       "    <tr>\n",
       "      <th>20-24</th>\n",
       "      <td>39.10%</td>\n",
       "      <td>305</td>\n",
       "    </tr>\n",
       "    <tr>\n",
       "      <th>25-29</th>\n",
       "      <td>9.74%</td>\n",
       "      <td>76</td>\n",
       "    </tr>\n",
       "    <tr>\n",
       "      <th>30-34</th>\n",
       "      <td>7.44%</td>\n",
       "      <td>58</td>\n",
       "    </tr>\n",
       "    <tr>\n",
       "      <th>35-39</th>\n",
       "      <td>5.64%</td>\n",
       "      <td>44</td>\n",
       "    </tr>\n",
       "    <tr>\n",
       "      <th>40+</th>\n",
       "      <td>0.38%</td>\n",
       "      <td>3</td>\n",
       "    </tr>\n",
       "  </tbody>\n",
       "</table>\n",
       "</div>"
      ],
      "text/plain": [
       "      Percentage of Players  Total Count\n",
       "<10                   4.10%           32\n",
       "10-14                10.00%           78\n",
       "15-19                23.59%          184\n",
       "20-24                39.10%          305\n",
       "25-29                 9.74%           76\n",
       "30-34                 7.44%           58\n",
       "35-39                 5.64%           44\n",
       "40+                   0.38%            3"
      ]
     },
     "execution_count": 20,
     "metadata": {},
     "output_type": "execute_result"
    }
   ],
   "source": [
    "purchase_data_df[\"Age Demographics\"] = pd.cut(purchase_data_df['Age'], bins, labels=group_names)\n",
    "age_totals = purchase_data_df[\"Age Demographics\"].value_counts()\n",
    "age_percents = age_totals / total_player_count * 100\n",
    "age_demographic_summary = pd.DataFrame({\"Total Count\": age_totals, \"Percentage of Players\": age_percents})\n",
    "age_demographic_summary = age_demographic_summary.round(2)\n",
    "age_demographic_summary[\"Percentage of Players\"] = age_demographic_summary[\"Percentage of Players\"].map(\"{:,.2f}%\".format)\n",
    "age_demographic_summary.sort_index()"
   ]
  },
  {
   "cell_type": "markdown",
   "metadata": {
    "collapsed": true
   },
   "source": [
    "## Purchasing Analysis (Age)"
   ]
  },
  {
   "cell_type": "code",
   "execution_count": 21,
   "metadata": {},
   "outputs": [
    {
     "data": {
      "text/html": [
       "<div>\n",
       "<style>\n",
       "    .dataframe thead tr:only-child th {\n",
       "        text-align: right;\n",
       "    }\n",
       "\n",
       "    .dataframe thead th {\n",
       "        text-align: left;\n",
       "    }\n",
       "\n",
       "    .dataframe tbody tr th {\n",
       "        vertical-align: top;\n",
       "    }\n",
       "</style>\n",
       "<table border=\"1\" class=\"dataframe\">\n",
       "  <thead>\n",
       "    <tr style=\"text-align: right;\">\n",
       "      <th></th>\n",
       "      <th>Average Purchase Price</th>\n",
       "      <th>Normalized Totals</th>\n",
       "      <th>Purchase Count</th>\n",
       "      <th>Total Purchase Value</th>\n",
       "    </tr>\n",
       "  </thead>\n",
       "  <tbody>\n",
       "    <tr>\n",
       "      <th>10-14</th>\n",
       "      <td>$2.87</td>\n",
       "      <td>$2.87</td>\n",
       "      <td>78</td>\n",
       "      <td>$224.15</td>\n",
       "    </tr>\n",
       "    <tr>\n",
       "      <th>15-19</th>\n",
       "      <td>$2.87</td>\n",
       "      <td>$2.87</td>\n",
       "      <td>184</td>\n",
       "      <td>$528.74</td>\n",
       "    </tr>\n",
       "    <tr>\n",
       "      <th>20-24</th>\n",
       "      <td>$2.96</td>\n",
       "      <td>$2.96</td>\n",
       "      <td>305</td>\n",
       "      <td>$902.61</td>\n",
       "    </tr>\n",
       "    <tr>\n",
       "      <th>25-29</th>\n",
       "      <td>$2.89</td>\n",
       "      <td>$2.89</td>\n",
       "      <td>76</td>\n",
       "      <td>$219.82</td>\n",
       "    </tr>\n",
       "    <tr>\n",
       "      <th>30-34</th>\n",
       "      <td>$3.07</td>\n",
       "      <td>$3.07</td>\n",
       "      <td>58</td>\n",
       "      <td>$178.26</td>\n",
       "    </tr>\n",
       "    <tr>\n",
       "      <th>35-39</th>\n",
       "      <td>$2.90</td>\n",
       "      <td>$2.90</td>\n",
       "      <td>44</td>\n",
       "      <td>$127.49</td>\n",
       "    </tr>\n",
       "    <tr>\n",
       "      <th>40+</th>\n",
       "      <td>$2.88</td>\n",
       "      <td>$2.88</td>\n",
       "      <td>3</td>\n",
       "      <td>$8.64</td>\n",
       "    </tr>\n",
       "    <tr>\n",
       "      <th>&lt;10</th>\n",
       "      <td>$3.02</td>\n",
       "      <td>$3.02</td>\n",
       "      <td>32</td>\n",
       "      <td>$96.62</td>\n",
       "    </tr>\n",
       "  </tbody>\n",
       "</table>\n",
       "</div>"
      ],
      "text/plain": [
       "      Average Purchase Price Normalized Totals Purchase Count  \\\n",
       "10-14                  $2.87             $2.87             78   \n",
       "15-19                  $2.87             $2.87            184   \n",
       "20-24                  $2.96             $2.96            305   \n",
       "25-29                  $2.89             $2.89             76   \n",
       "30-34                  $3.07             $3.07             58   \n",
       "35-39                  $2.90             $2.90             44   \n",
       "40+                    $2.88             $2.88              3   \n",
       "<10                    $3.02             $3.02             32   \n",
       "\n",
       "      Total Purchase Value  \n",
       "10-14              $224.15  \n",
       "15-19              $528.74  \n",
       "20-24              $902.61  \n",
       "25-29              $219.82  \n",
       "30-34              $178.26  \n",
       "35-39              $127.49  \n",
       "40+                  $8.64  \n",
       "<10                 $96.62  "
      ]
     },
     "execution_count": 21,
     "metadata": {},
     "output_type": "execute_result"
    }
   ],
   "source": [
    "purchase_data_df[\"Age Ranges\"] = pd.cut(purchase_data_df[\"Age\"], bins, labels=group_names)\n",
    "\n",
    "age_purchase_total = purchase_data_df.groupby([\"Age Ranges\"]).sum()[\"Price\"].rename(\"Total Purchase Value\")\n",
    "age_average = purchase_data_df.groupby([\"Age Ranges\"]).mean()[\"Price\"].rename(\"Average Purchase Price\")\n",
    "age_counts = purchase_data_df.groupby([\"Age Ranges\"]).count()[\"Price\"].rename(\"Purchase Count\")\n",
    "\n",
    "normalized = age_purchase_total / age_demographic_summary[\"Total Count\"]\n",
    "\n",
    "age_summary = pd.DataFrame({\"Purchase Count\": age_counts, \"Average Purchase Price\": age_average, \"Total Purchase Value\": age_purchase_total, \"Normalized Totals\": normalized})\n",
    "\n",
    "age_summary[\"Average Purchase Price\"] = age_summary[\"Average Purchase Price\"].map(\"${:,.2f}\".format)\n",
    "age_summary[\"Total Purchase Value\"] = age_summary[\"Total Purchase Value\"].map(\"${:,.2f}\".format)\n",
    "age_summary[\"Purchase Count\"] = age_summary[\"Purchase Count\"].map(\"{:,}\".format)\n",
    "age_summary[\"Normalized Totals\"] = age_summary[\"Normalized Totals\"].map(\"${:,.2f}\".format)\n",
    "age_summary"
   ]
  },
  {
   "cell_type": "markdown",
   "metadata": {},
   "source": [
    "## Top Spenders"
   ]
  },
  {
   "cell_type": "code",
   "execution_count": 22,
   "metadata": {},
   "outputs": [
    {
     "data": {
      "text/html": [
       "<div>\n",
       "<style>\n",
       "    .dataframe thead tr:only-child th {\n",
       "        text-align: right;\n",
       "    }\n",
       "\n",
       "    .dataframe thead th {\n",
       "        text-align: left;\n",
       "    }\n",
       "\n",
       "    .dataframe tbody tr th {\n",
       "        vertical-align: top;\n",
       "    }\n",
       "</style>\n",
       "<table border=\"1\" class=\"dataframe\">\n",
       "  <thead>\n",
       "    <tr style=\"text-align: right;\">\n",
       "      <th></th>\n",
       "      <th>Average Purchase Price</th>\n",
       "      <th>Purchase Count</th>\n",
       "      <th>Total Purchase Value</th>\n",
       "    </tr>\n",
       "    <tr>\n",
       "      <th>SN</th>\n",
       "      <th></th>\n",
       "      <th></th>\n",
       "      <th></th>\n",
       "    </tr>\n",
       "  </thead>\n",
       "  <tbody>\n",
       "    <tr>\n",
       "      <th>Qarwen67</th>\n",
       "      <td>$2.49</td>\n",
       "      <td>4</td>\n",
       "      <td>$9.97</td>\n",
       "    </tr>\n",
       "    <tr>\n",
       "      <th>Sondim43</th>\n",
       "      <td>$3.13</td>\n",
       "      <td>3</td>\n",
       "      <td>$9.38</td>\n",
       "    </tr>\n",
       "    <tr>\n",
       "      <th>Tillyrin30</th>\n",
       "      <td>$3.06</td>\n",
       "      <td>3</td>\n",
       "      <td>$9.19</td>\n",
       "    </tr>\n",
       "    <tr>\n",
       "      <th>Lisistaya47</th>\n",
       "      <td>$3.06</td>\n",
       "      <td>3</td>\n",
       "      <td>$9.19</td>\n",
       "    </tr>\n",
       "    <tr>\n",
       "      <th>Tyisriphos58</th>\n",
       "      <td>$4.59</td>\n",
       "      <td>2</td>\n",
       "      <td>$9.18</td>\n",
       "    </tr>\n",
       "  </tbody>\n",
       "</table>\n",
       "</div>"
      ],
      "text/plain": [
       "             Average Purchase Price  Purchase Count Total Purchase Value\n",
       "SN                                                                      \n",
       "Qarwen67                      $2.49               4                $9.97\n",
       "Sondim43                      $3.13               3                $9.38\n",
       "Tillyrin30                    $3.06               3                $9.19\n",
       "Lisistaya47                   $3.06               3                $9.19\n",
       "Tyisriphos58                  $4.59               2                $9.18"
      ]
     },
     "execution_count": 22,
     "metadata": {},
     "output_type": "execute_result"
    }
   ],
   "source": [
    "user_total = purchase_data_df.groupby([\"SN\"]).sum()[\"Price\"].rename(\"Total Purchase Value\")\n",
    "user_avg = purchase_data_df.groupby([\"SN\"]).mean()[\"Price\"].rename(\"Average Purchase Price\")\n",
    "user_count = purchase_data_df.groupby([\"SN\"]).count()[\"Price\"].rename(\"Purchase Count\")\n",
    "\n",
    "top_spenders = pd.DataFrame({\"Total Purchase Value\": user_total, \"Average Purchase Price\": user_avg, \"Purchase Count\": user_count})\n",
    "top_spenders[\"Average Purchase Price\"] = top_spenders[\"Average Purchase Price\"].map(\"${:,.2f}\".format)\n",
    "top_spenders[\"Total Purchase Value\"] = top_spenders[\"Total Purchase Value\"].map(\"${:,.2f}\".format)\n",
    "top_spenders.sort_values(\"Total Purchase Value\", ascending=False).head(5)"
   ]
  },
  {
   "cell_type": "markdown",
   "metadata": {},
   "source": [
    "## Most Popular Items"
   ]
  },
  {
   "cell_type": "code",
   "execution_count": 23,
   "metadata": {},
   "outputs": [
    {
     "data": {
      "text/html": [
       "<div>\n",
       "<style>\n",
       "    .dataframe thead tr:only-child th {\n",
       "        text-align: right;\n",
       "    }\n",
       "\n",
       "    .dataframe thead th {\n",
       "        text-align: left;\n",
       "    }\n",
       "\n",
       "    .dataframe tbody tr th {\n",
       "        vertical-align: top;\n",
       "    }\n",
       "</style>\n",
       "<table border=\"1\" class=\"dataframe\">\n",
       "  <thead>\n",
       "    <tr style=\"text-align: right;\">\n",
       "      <th></th>\n",
       "      <th></th>\n",
       "      <th>Item Price</th>\n",
       "      <th>Purchase Count</th>\n",
       "      <th>Total Purchase Value</th>\n",
       "    </tr>\n",
       "    <tr>\n",
       "      <th>Item ID</th>\n",
       "      <th>Item Name</th>\n",
       "      <th></th>\n",
       "      <th></th>\n",
       "      <th></th>\n",
       "    </tr>\n",
       "  </thead>\n",
       "  <tbody>\n",
       "    <tr>\n",
       "      <th>13</th>\n",
       "      <th>Serenity</th>\n",
       "      <td>$1.49</td>\n",
       "      <td>9</td>\n",
       "      <td>$13.41</td>\n",
       "    </tr>\n",
       "    <tr>\n",
       "      <th>34</th>\n",
       "      <th>Retribution Axe</th>\n",
       "      <td>$4.14</td>\n",
       "      <td>9</td>\n",
       "      <td>$37.26</td>\n",
       "    </tr>\n",
       "    <tr>\n",
       "      <th>175</th>\n",
       "      <th>Woeful Adamantite Claymore</th>\n",
       "      <td>$1.24</td>\n",
       "      <td>9</td>\n",
       "      <td>$11.16</td>\n",
       "    </tr>\n",
       "    <tr>\n",
       "      <th>31</th>\n",
       "      <th>Trickster</th>\n",
       "      <td>$2.07</td>\n",
       "      <td>9</td>\n",
       "      <td>$18.63</td>\n",
       "    </tr>\n",
       "    <tr>\n",
       "      <th>106</th>\n",
       "      <th>Crying Steel Sickle</th>\n",
       "      <td>$2.29</td>\n",
       "      <td>8</td>\n",
       "      <td>$18.32</td>\n",
       "    </tr>\n",
       "  </tbody>\n",
       "</table>\n",
       "</div>"
      ],
      "text/plain": [
       "                                   Item Price Purchase Count  \\\n",
       "Item ID Item Name                                              \n",
       "13      Serenity                        $1.49              9   \n",
       "34      Retribution Axe                 $4.14              9   \n",
       "175     Woeful Adamantite Claymore      $1.24              9   \n",
       "31      Trickster                       $2.07              9   \n",
       "106     Crying Steel Sickle             $2.29              8   \n",
       "\n",
       "                                   Total Purchase Value  \n",
       "Item ID Item Name                                        \n",
       "13      Serenity                                 $13.41  \n",
       "34      Retribution Axe                          $37.26  \n",
       "175     Woeful Adamantite Claymore               $11.16  \n",
       "31      Trickster                                $18.63  \n",
       "106     Crying Steel Sickle                      $18.32  "
      ]
     },
     "execution_count": 23,
     "metadata": {},
     "output_type": "execute_result"
    }
   ],
   "source": [
    "items = purchase_data_df.loc[:,[\"Item ID\", \"Item Name\", \"Price\"]]\n",
    "\n",
    "total_items_purchased = items.groupby([\"Item ID\", \"Item Name\"]).sum()[\"Price\"].rename(\"Total Purchase Value\")\n",
    "average_item_purchased = items.groupby([\"Item ID\", \"Item Name\"]).mean()[\"Price\"]\n",
    "item_count = items.groupby([\"Item ID\", \"Item Name\"]).count()[\"Price\"].rename(\"Purchase Count\")\n",
    "\n",
    "items_summary = pd.DataFrame({\"Total Purchase Value\":total_items_purchased, \"Item Price\": average_item_purchased, \"Purchase Count\": item_count})\n",
    "items_summary[\"Item Price\"] = items_summary[\"Item Price\"].map(\"${:,.2f}\".format)\n",
    "items_summary[\"Purchase Count\"] = items_summary[\"Purchase Count\"].map(\"{:,}\".format)\n",
    "items_summary[\"Total Purchase Value\"] = items_summary[\"Total Purchase Value\"].map(\"${:,.2f}\".format)\n",
    "\n",
    "items_summary.sort_values(\"Purchase Count\", ascending=False).head(5)"
   ]
  },
  {
   "cell_type": "markdown",
   "metadata": {},
   "source": [
    "## Most Profitable Items"
   ]
  },
  {
   "cell_type": "code",
   "execution_count": 24,
   "metadata": {},
   "outputs": [
    {
     "data": {
      "text/html": [
       "<div>\n",
       "<style>\n",
       "    .dataframe thead tr:only-child th {\n",
       "        text-align: right;\n",
       "    }\n",
       "\n",
       "    .dataframe thead th {\n",
       "        text-align: left;\n",
       "    }\n",
       "\n",
       "    .dataframe tbody tr th {\n",
       "        vertical-align: top;\n",
       "    }\n",
       "</style>\n",
       "<table border=\"1\" class=\"dataframe\">\n",
       "  <thead>\n",
       "    <tr style=\"text-align: right;\">\n",
       "      <th></th>\n",
       "      <th></th>\n",
       "      <th>Item Price</th>\n",
       "      <th>Purchase Count</th>\n",
       "      <th>Total Purchase Value</th>\n",
       "    </tr>\n",
       "    <tr>\n",
       "      <th>Item ID</th>\n",
       "      <th>Item Name</th>\n",
       "      <th></th>\n",
       "      <th></th>\n",
       "      <th></th>\n",
       "    </tr>\n",
       "  </thead>\n",
       "  <tbody>\n",
       "    <tr>\n",
       "      <th>170</th>\n",
       "      <th>Shadowsteel</th>\n",
       "      <td>$1.98</td>\n",
       "      <td>5</td>\n",
       "      <td>$9.90</td>\n",
       "    </tr>\n",
       "    <tr>\n",
       "      <th>21</th>\n",
       "      <th>Souleater</th>\n",
       "      <td>$3.27</td>\n",
       "      <td>3</td>\n",
       "      <td>$9.81</td>\n",
       "    </tr>\n",
       "    <tr>\n",
       "      <th>37</th>\n",
       "      <th>Shadow Strike, Glory of Ending Hope</th>\n",
       "      <td>$1.93</td>\n",
       "      <td>5</td>\n",
       "      <td>$9.65</td>\n",
       "    </tr>\n",
       "    <tr>\n",
       "      <th>127</th>\n",
       "      <th>Heartseeker, Reaver of Souls</th>\n",
       "      <td>$3.21</td>\n",
       "      <td>3</td>\n",
       "      <td>$9.63</td>\n",
       "    </tr>\n",
       "    <tr>\n",
       "      <th>120</th>\n",
       "      <th>Agatha</th>\n",
       "      <td>$1.91</td>\n",
       "      <td>5</td>\n",
       "      <td>$9.55</td>\n",
       "    </tr>\n",
       "  </tbody>\n",
       "</table>\n",
       "</div>"
      ],
      "text/plain": [
       "                                            Item Price Purchase Count  \\\n",
       "Item ID Item Name                                                       \n",
       "170     Shadowsteel                              $1.98              5   \n",
       "21      Souleater                                $3.27              3   \n",
       "37      Shadow Strike, Glory of Ending Hope      $1.93              5   \n",
       "127     Heartseeker, Reaver of Souls             $3.21              3   \n",
       "120     Agatha                                   $1.91              5   \n",
       "\n",
       "                                            Total Purchase Value  \n",
       "Item ID Item Name                                                 \n",
       "170     Shadowsteel                                        $9.90  \n",
       "21      Souleater                                          $9.81  \n",
       "37      Shadow Strike, Glory of Ending Hope                $9.65  \n",
       "127     Heartseeker, Reaver of Souls                       $9.63  \n",
       "120     Agatha                                             $9.55  "
      ]
     },
     "execution_count": 24,
     "metadata": {},
     "output_type": "execute_result"
    }
   ],
   "source": [
    "items = purchase_data_df.loc[:,[\"Item ID\", \"Item Name\", \"Price\"]]\n",
    "\n",
    "total_items_purchased = items.groupby([\"Item ID\", \"Item Name\"]).sum()[\"Price\"].rename(\"Total Purchase Value\")\n",
    "average_item_purchased = items.groupby([\"Item ID\", \"Item Name\"]).mean()[\"Price\"]\n",
    "item_count = items.groupby([\"Item ID\", \"Item Name\"]).count()[\"Price\"].rename(\"Purchase Count\")\n",
    "\n",
    "items_summary = pd.DataFrame({\"Total Purchase Value\":total_items_purchased, \"Item Price\": average_item_purchased, \"Purchase Count\": item_count})\n",
    "items_summary[\"Item Price\"] = items_summary[\"Item Price\"].map(\"${:,.2f}\".format)\n",
    "items_summary[\"Purchase Count\"] = items_summary[\"Purchase Count\"].map(\"{:,}\".format)\n",
    "items_summary[\"Total Purchase Value\"] = items_summary[\"Total Purchase Value\"].map(\"${:,.2f}\".format)\n",
    "\n",
    "items_summary.sort_values(\"Total Purchase Value\", ascending=False).head(5)"
   ]
  },
  {
   "cell_type": "code",
   "execution_count": null,
   "metadata": {
    "collapsed": true
   },
   "outputs": [],
   "source": []
  }
 ],
 "metadata": {
  "kernelspec": {
   "display_name": "Python 3",
   "language": "python",
   "name": "python3"
  },
  "language_info": {
   "codemirror_mode": {
    "name": "ipython",
    "version": 3
   },
   "file_extension": ".py",
   "mimetype": "text/x-python",
   "name": "python",
   "nbconvert_exporter": "python",
   "pygments_lexer": "ipython3",
   "version": "3.6.2"
  }
 },
 "nbformat": 4,
 "nbformat_minor": 2
}
